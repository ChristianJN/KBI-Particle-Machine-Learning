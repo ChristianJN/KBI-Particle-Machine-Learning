{
 "cells": [
  {
   "cell_type": "code",
   "execution_count": 1,
   "id": "d1f83a5b-e138-48af-9672-ea7340b75201",
   "metadata": {},
   "outputs": [],
   "source": [
    "import pandas as pd"
   ]
  },
  {
   "cell_type": "code",
   "execution_count": 2,
   "id": "e3eee458-3478-428e-b1fc-f4a25a7f2c7c",
   "metadata": {},
   "outputs": [],
   "source": [
    "import numpy as np\n",
    "#data = np.loadtxt(fname='categorized_particles.csv', delimiter=',')"
   ]
  },
  {
   "cell_type": "code",
   "execution_count": 3,
   "id": "a45cb114-bc0d-4a64-8e80-2f3d7c59ebc2",
   "metadata": {},
   "outputs": [],
   "source": [
    "df = pd.read_csv('categorized_particles.csv')"
   ]
  },
  {
   "cell_type": "code",
   "execution_count": 4,
   "id": "2f4a3b6a-9d86-4eb4-b1ed-92e87ce7ab09",
   "metadata": {},
   "outputs": [],
   "source": [
    "df2 = pd.read_csv('fiber.csv')"
   ]
  },
  {
   "cell_type": "code",
   "execution_count": 5,
   "id": "e761a600-cf9c-4df9-a387-4dd81b8b5212",
   "metadata": {},
   "outputs": [],
   "source": [
    "df3 = pd.read_csv('air_bubble_and_fiber.csv')"
   ]
  },
  {
   "cell_type": "code",
   "execution_count": 6,
   "id": "29b3bbad-bed8-44df-b24a-62be0e9e2f7f",
   "metadata": {},
   "outputs": [
    {
     "data": {
      "text/html": [
       "<div>\n",
       "<style scoped>\n",
       "    .dataframe tbody tr th:only-of-type {\n",
       "        vertical-align: middle;\n",
       "    }\n",
       "\n",
       "    .dataframe tbody tr th {\n",
       "        vertical-align: top;\n",
       "    }\n",
       "\n",
       "    .dataframe thead th {\n",
       "        text-align: right;\n",
       "    }\n",
       "</style>\n",
       "<table border=\"1\" class=\"dataframe\">\n",
       "  <thead>\n",
       "    <tr style=\"text-align: right;\">\n",
       "      <th></th>\n",
       "      <th>particle_id</th>\n",
       "      <th>frame_num</th>\n",
       "      <th>particle_num</th>\n",
       "      <th>time_stamp_s</th>\n",
       "      <th>ecd_um</th>\n",
       "      <th>area_pixels</th>\n",
       "      <th>perimeter</th>\n",
       "      <th>circularity</th>\n",
       "      <th>intensity_mean</th>\n",
       "      <th>intensity_std</th>\n",
       "      <th>...</th>\n",
       "      <th>max_feret_diam_um</th>\n",
       "      <th>aspect_ratio</th>\n",
       "      <th>x_left</th>\n",
       "      <th>x_right</th>\n",
       "      <th>y_top</th>\n",
       "      <th>y_bottom</th>\n",
       "      <th>edge_particle</th>\n",
       "      <th>experiment</th>\n",
       "      <th>step</th>\n",
       "      <th>type</th>\n",
       "    </tr>\n",
       "  </thead>\n",
       "  <tbody>\n",
       "    <tr>\n",
       "      <th>0</th>\n",
       "      <td>47</td>\n",
       "      <td>1</td>\n",
       "      <td>48</td>\n",
       "      <td>0.0</td>\n",
       "      <td>68.375</td>\n",
       "      <td>2401</td>\n",
       "      <td>1542.88</td>\n",
       "      <td>0.11</td>\n",
       "      <td>810.09</td>\n",
       "      <td>7.39</td>\n",
       "      <td>...</td>\n",
       "      <td>546.875</td>\n",
       "      <td>0.02</td>\n",
       "      <td>621</td>\n",
       "      <td>1035</td>\n",
       "      <td>945</td>\n",
       "      <td>956</td>\n",
       "      <td>False</td>\n",
       "      <td>MTB_20160321_Schleren</td>\n",
       "      <td>25 KBID 146-0034 Rep 1_5200-3196_160321-112131</td>\n",
       "      <td>schlieren lines</td>\n",
       "    </tr>\n",
       "    <tr>\n",
       "      <th>1</th>\n",
       "      <td>52</td>\n",
       "      <td>1</td>\n",
       "      <td>53</td>\n",
       "      <td>0.0</td>\n",
       "      <td>15.375</td>\n",
       "      <td>211</td>\n",
       "      <td>243.15</td>\n",
       "      <td>0.21</td>\n",
       "      <td>812.77</td>\n",
       "      <td>5.53</td>\n",
       "      <td>...</td>\n",
       "      <td>69.875</td>\n",
       "      <td>0.09</td>\n",
       "      <td>380</td>\n",
       "      <td>438</td>\n",
       "      <td>951</td>\n",
       "      <td>957</td>\n",
       "      <td>False</td>\n",
       "      <td>MTB_20160321_Schleren</td>\n",
       "      <td>25 KBID 146-0034 Rep 1_5200-3196_160321-112131</td>\n",
       "      <td>schlieren lines</td>\n",
       "    </tr>\n",
       "    <tr>\n",
       "      <th>2</th>\n",
       "      <td>54</td>\n",
       "      <td>1</td>\n",
       "      <td>55</td>\n",
       "      <td>0.0</td>\n",
       "      <td>17.625</td>\n",
       "      <td>257</td>\n",
       "      <td>275.88</td>\n",
       "      <td>0.21</td>\n",
       "      <td>812.89</td>\n",
       "      <td>6.12</td>\n",
       "      <td>...</td>\n",
       "      <td>76.375</td>\n",
       "      <td>0.09</td>\n",
       "      <td>442</td>\n",
       "      <td>505</td>\n",
       "      <td>950</td>\n",
       "      <td>957</td>\n",
       "      <td>False</td>\n",
       "      <td>MTB_20160321_Schleren</td>\n",
       "      <td>25 KBID 146-0034 Rep 1_5200-3196_160321-112131</td>\n",
       "      <td>schlieren lines</td>\n",
       "    </tr>\n",
       "    <tr>\n",
       "      <th>3</th>\n",
       "      <td>55</td>\n",
       "      <td>1</td>\n",
       "      <td>56</td>\n",
       "      <td>0.0</td>\n",
       "      <td>9.625</td>\n",
       "      <td>114</td>\n",
       "      <td>106.88</td>\n",
       "      <td>0.35</td>\n",
       "      <td>813.95</td>\n",
       "      <td>5.71</td>\n",
       "      <td>...</td>\n",
       "      <td>31.625</td>\n",
       "      <td>0.19</td>\n",
       "      <td>513</td>\n",
       "      <td>542</td>\n",
       "      <td>950</td>\n",
       "      <td>957</td>\n",
       "      <td>False</td>\n",
       "      <td>MTB_20160321_Schleren</td>\n",
       "      <td>25 KBID 146-0034 Rep 1_5200-3196_160321-112131</td>\n",
       "      <td>schlieren lines</td>\n",
       "    </tr>\n",
       "    <tr>\n",
       "      <th>4</th>\n",
       "      <td>56</td>\n",
       "      <td>1</td>\n",
       "      <td>57</td>\n",
       "      <td>0.0</td>\n",
       "      <td>10.625</td>\n",
       "      <td>128</td>\n",
       "      <td>143.61</td>\n",
       "      <td>0.28</td>\n",
       "      <td>812.13</td>\n",
       "      <td>6.96</td>\n",
       "      <td>...</td>\n",
       "      <td>41.625</td>\n",
       "      <td>0.14</td>\n",
       "      <td>542</td>\n",
       "      <td>579</td>\n",
       "      <td>950</td>\n",
       "      <td>956</td>\n",
       "      <td>False</td>\n",
       "      <td>MTB_20160321_Schleren</td>\n",
       "      <td>25 KBID 146-0034 Rep 1_5200-3196_160321-112131</td>\n",
       "      <td>schlieren lines</td>\n",
       "    </tr>\n",
       "  </tbody>\n",
       "</table>\n",
       "<p>5 rows × 22 columns</p>\n",
       "</div>"
      ],
      "text/plain": [
       "   particle_id  frame_num  particle_num  time_stamp_s  ecd_um  area_pixels  \\\n",
       "0           47          1            48           0.0  68.375         2401   \n",
       "1           52          1            53           0.0  15.375          211   \n",
       "2           54          1            55           0.0  17.625          257   \n",
       "3           55          1            56           0.0   9.625          114   \n",
       "4           56          1            57           0.0  10.625          128   \n",
       "\n",
       "   perimeter  circularity  intensity_mean  intensity_std  ...  \\\n",
       "0    1542.88         0.11          810.09           7.39  ...   \n",
       "1     243.15         0.21          812.77           5.53  ...   \n",
       "2     275.88         0.21          812.89           6.12  ...   \n",
       "3     106.88         0.35          813.95           5.71  ...   \n",
       "4     143.61         0.28          812.13           6.96  ...   \n",
       "\n",
       "   max_feret_diam_um  aspect_ratio  x_left  x_right  y_top  y_bottom  \\\n",
       "0            546.875          0.02     621     1035    945       956   \n",
       "1             69.875          0.09     380      438    951       957   \n",
       "2             76.375          0.09     442      505    950       957   \n",
       "3             31.625          0.19     513      542    950       957   \n",
       "4             41.625          0.14     542      579    950       956   \n",
       "\n",
       "   edge_particle             experiment  \\\n",
       "0          False  MTB_20160321_Schleren   \n",
       "1          False  MTB_20160321_Schleren   \n",
       "2          False  MTB_20160321_Schleren   \n",
       "3          False  MTB_20160321_Schleren   \n",
       "4          False  MTB_20160321_Schleren   \n",
       "\n",
       "                                             step             type  \n",
       "0  25 KBID 146-0034 Rep 1_5200-3196_160321-112131  schlieren lines  \n",
       "1  25 KBID 146-0034 Rep 1_5200-3196_160321-112131  schlieren lines  \n",
       "2  25 KBID 146-0034 Rep 1_5200-3196_160321-112131  schlieren lines  \n",
       "3  25 KBID 146-0034 Rep 1_5200-3196_160321-112131  schlieren lines  \n",
       "4  25 KBID 146-0034 Rep 1_5200-3196_160321-112131  schlieren lines  \n",
       "\n",
       "[5 rows x 22 columns]"
      ]
     },
     "execution_count": 6,
     "metadata": {},
     "output_type": "execute_result"
    }
   ],
   "source": [
    "df.head()"
   ]
  },
  {
   "cell_type": "code",
   "execution_count": 7,
   "id": "efbcaef8-bf12-4694-971e-3c1a8da0cc5f",
   "metadata": {},
   "outputs": [],
   "source": [
    "import matplotlib.pyplot as plt"
   ]
  },
  {
   "cell_type": "code",
   "execution_count": 8,
   "id": "c901a15f-4910-4c84-9ad0-2fe356ddba9c",
   "metadata": {},
   "outputs": [
    {
     "data": {
      "text/plain": [
       "(114708, 22)"
      ]
     },
     "execution_count": 8,
     "metadata": {},
     "output_type": "execute_result"
    }
   ],
   "source": [
    "df.shape"
   ]
  },
  {
   "cell_type": "code",
   "execution_count": 9,
   "id": "acd18624-d1c3-405c-9da5-ea889fd77ec3",
   "metadata": {},
   "outputs": [
    {
     "data": {
      "text/plain": [
       "Index(['particle_id', 'frame_num', 'particle_num', 'time_stamp_s', 'ecd_um',\n",
       "       'area_pixels', 'perimeter', 'circularity', 'intensity_mean',\n",
       "       'intensity_std', 'intensity_min', 'intensity_max', 'max_feret_diam_um',\n",
       "       'aspect_ratio', 'x_left', 'x_right', 'y_top', 'y_bottom',\n",
       "       'edge_particle', 'experiment', 'step', 'type'],\n",
       "      dtype='object')"
      ]
     },
     "execution_count": 9,
     "metadata": {},
     "output_type": "execute_result"
    }
   ],
   "source": [
    "df.columns"
   ]
  },
  {
   "cell_type": "code",
   "execution_count": 10,
   "id": "8eb0e645-9e77-4846-ace9-dcc6be714e4c",
   "metadata": {},
   "outputs": [],
   "source": [
    "#df.set_index('particle_id', inplace=True) "
   ]
  },
  {
   "cell_type": "code",
   "execution_count": 11,
   "id": "1bd8c73e-f4aa-4b51-85a3-4ccae3567a14",
   "metadata": {},
   "outputs": [
    {
     "data": {
      "text/plain": [
       "RangeIndex(start=0, stop=114708, step=1)"
      ]
     },
     "execution_count": 11,
     "metadata": {},
     "output_type": "execute_result"
    }
   ],
   "source": [
    "df.index"
   ]
  },
  {
   "cell_type": "code",
   "execution_count": 12,
   "id": "b1fa3576-6847-4caa-92ed-046e6f7a2d17",
   "metadata": {},
   "outputs": [
    {
     "data": {
      "text/plain": [
       "(114708, 22)"
      ]
     },
     "execution_count": 12,
     "metadata": {},
     "output_type": "execute_result"
    }
   ],
   "source": [
    "df.shape"
   ]
  },
  {
   "cell_type": "code",
   "execution_count": 13,
   "id": "bd702ee7-055c-4115-881d-17a0f968e06b",
   "metadata": {},
   "outputs": [
    {
     "data": {
      "text/html": [
       "<div>\n",
       "<style scoped>\n",
       "    .dataframe tbody tr th:only-of-type {\n",
       "        vertical-align: middle;\n",
       "    }\n",
       "\n",
       "    .dataframe tbody tr th {\n",
       "        vertical-align: top;\n",
       "    }\n",
       "\n",
       "    .dataframe thead th {\n",
       "        text-align: right;\n",
       "    }\n",
       "</style>\n",
       "<table border=\"1\" class=\"dataframe\">\n",
       "  <thead>\n",
       "    <tr style=\"text-align: right;\">\n",
       "      <th></th>\n",
       "      <th>particle_id</th>\n",
       "      <th>frame_num</th>\n",
       "      <th>particle_num</th>\n",
       "      <th>time_stamp_s</th>\n",
       "      <th>ecd_um</th>\n",
       "      <th>area_pixels</th>\n",
       "      <th>perimeter</th>\n",
       "      <th>circularity</th>\n",
       "      <th>intensity_mean</th>\n",
       "      <th>intensity_std</th>\n",
       "      <th>...</th>\n",
       "      <th>max_feret_diam_um</th>\n",
       "      <th>aspect_ratio</th>\n",
       "      <th>x_left</th>\n",
       "      <th>x_right</th>\n",
       "      <th>y_top</th>\n",
       "      <th>y_bottom</th>\n",
       "      <th>edge_particle</th>\n",
       "      <th>experiment</th>\n",
       "      <th>step</th>\n",
       "      <th>type</th>\n",
       "    </tr>\n",
       "  </thead>\n",
       "  <tbody>\n",
       "    <tr>\n",
       "      <th>0</th>\n",
       "      <td>47</td>\n",
       "      <td>1</td>\n",
       "      <td>48</td>\n",
       "      <td>0.0</td>\n",
       "      <td>68.375</td>\n",
       "      <td>2401</td>\n",
       "      <td>1542.88</td>\n",
       "      <td>0.11</td>\n",
       "      <td>810.09</td>\n",
       "      <td>7.39</td>\n",
       "      <td>...</td>\n",
       "      <td>546.875</td>\n",
       "      <td>0.02</td>\n",
       "      <td>621</td>\n",
       "      <td>1035</td>\n",
       "      <td>945</td>\n",
       "      <td>956</td>\n",
       "      <td>False</td>\n",
       "      <td>MTB_20160321_Schleren</td>\n",
       "      <td>25 KBID 146-0034 Rep 1_5200-3196_160321-112131</td>\n",
       "      <td>schlieren lines</td>\n",
       "    </tr>\n",
       "    <tr>\n",
       "      <th>1</th>\n",
       "      <td>52</td>\n",
       "      <td>1</td>\n",
       "      <td>53</td>\n",
       "      <td>0.0</td>\n",
       "      <td>15.375</td>\n",
       "      <td>211</td>\n",
       "      <td>243.15</td>\n",
       "      <td>0.21</td>\n",
       "      <td>812.77</td>\n",
       "      <td>5.53</td>\n",
       "      <td>...</td>\n",
       "      <td>69.875</td>\n",
       "      <td>0.09</td>\n",
       "      <td>380</td>\n",
       "      <td>438</td>\n",
       "      <td>951</td>\n",
       "      <td>957</td>\n",
       "      <td>False</td>\n",
       "      <td>MTB_20160321_Schleren</td>\n",
       "      <td>25 KBID 146-0034 Rep 1_5200-3196_160321-112131</td>\n",
       "      <td>schlieren lines</td>\n",
       "    </tr>\n",
       "    <tr>\n",
       "      <th>2</th>\n",
       "      <td>54</td>\n",
       "      <td>1</td>\n",
       "      <td>55</td>\n",
       "      <td>0.0</td>\n",
       "      <td>17.625</td>\n",
       "      <td>257</td>\n",
       "      <td>275.88</td>\n",
       "      <td>0.21</td>\n",
       "      <td>812.89</td>\n",
       "      <td>6.12</td>\n",
       "      <td>...</td>\n",
       "      <td>76.375</td>\n",
       "      <td>0.09</td>\n",
       "      <td>442</td>\n",
       "      <td>505</td>\n",
       "      <td>950</td>\n",
       "      <td>957</td>\n",
       "      <td>False</td>\n",
       "      <td>MTB_20160321_Schleren</td>\n",
       "      <td>25 KBID 146-0034 Rep 1_5200-3196_160321-112131</td>\n",
       "      <td>schlieren lines</td>\n",
       "    </tr>\n",
       "    <tr>\n",
       "      <th>3</th>\n",
       "      <td>55</td>\n",
       "      <td>1</td>\n",
       "      <td>56</td>\n",
       "      <td>0.0</td>\n",
       "      <td>9.625</td>\n",
       "      <td>114</td>\n",
       "      <td>106.88</td>\n",
       "      <td>0.35</td>\n",
       "      <td>813.95</td>\n",
       "      <td>5.71</td>\n",
       "      <td>...</td>\n",
       "      <td>31.625</td>\n",
       "      <td>0.19</td>\n",
       "      <td>513</td>\n",
       "      <td>542</td>\n",
       "      <td>950</td>\n",
       "      <td>957</td>\n",
       "      <td>False</td>\n",
       "      <td>MTB_20160321_Schleren</td>\n",
       "      <td>25 KBID 146-0034 Rep 1_5200-3196_160321-112131</td>\n",
       "      <td>schlieren lines</td>\n",
       "    </tr>\n",
       "    <tr>\n",
       "      <th>4</th>\n",
       "      <td>56</td>\n",
       "      <td>1</td>\n",
       "      <td>57</td>\n",
       "      <td>0.0</td>\n",
       "      <td>10.625</td>\n",
       "      <td>128</td>\n",
       "      <td>143.61</td>\n",
       "      <td>0.28</td>\n",
       "      <td>812.13</td>\n",
       "      <td>6.96</td>\n",
       "      <td>...</td>\n",
       "      <td>41.625</td>\n",
       "      <td>0.14</td>\n",
       "      <td>542</td>\n",
       "      <td>579</td>\n",
       "      <td>950</td>\n",
       "      <td>956</td>\n",
       "      <td>False</td>\n",
       "      <td>MTB_20160321_Schleren</td>\n",
       "      <td>25 KBID 146-0034 Rep 1_5200-3196_160321-112131</td>\n",
       "      <td>schlieren lines</td>\n",
       "    </tr>\n",
       "  </tbody>\n",
       "</table>\n",
       "<p>5 rows × 22 columns</p>\n",
       "</div>"
      ],
      "text/plain": [
       "   particle_id  frame_num  particle_num  time_stamp_s  ecd_um  area_pixels  \\\n",
       "0           47          1            48           0.0  68.375         2401   \n",
       "1           52          1            53           0.0  15.375          211   \n",
       "2           54          1            55           0.0  17.625          257   \n",
       "3           55          1            56           0.0   9.625          114   \n",
       "4           56          1            57           0.0  10.625          128   \n",
       "\n",
       "   perimeter  circularity  intensity_mean  intensity_std  ...  \\\n",
       "0    1542.88         0.11          810.09           7.39  ...   \n",
       "1     243.15         0.21          812.77           5.53  ...   \n",
       "2     275.88         0.21          812.89           6.12  ...   \n",
       "3     106.88         0.35          813.95           5.71  ...   \n",
       "4     143.61         0.28          812.13           6.96  ...   \n",
       "\n",
       "   max_feret_diam_um  aspect_ratio  x_left  x_right  y_top  y_bottom  \\\n",
       "0            546.875          0.02     621     1035    945       956   \n",
       "1             69.875          0.09     380      438    951       957   \n",
       "2             76.375          0.09     442      505    950       957   \n",
       "3             31.625          0.19     513      542    950       957   \n",
       "4             41.625          0.14     542      579    950       956   \n",
       "\n",
       "   edge_particle             experiment  \\\n",
       "0          False  MTB_20160321_Schleren   \n",
       "1          False  MTB_20160321_Schleren   \n",
       "2          False  MTB_20160321_Schleren   \n",
       "3          False  MTB_20160321_Schleren   \n",
       "4          False  MTB_20160321_Schleren   \n",
       "\n",
       "                                             step             type  \n",
       "0  25 KBID 146-0034 Rep 1_5200-3196_160321-112131  schlieren lines  \n",
       "1  25 KBID 146-0034 Rep 1_5200-3196_160321-112131  schlieren lines  \n",
       "2  25 KBID 146-0034 Rep 1_5200-3196_160321-112131  schlieren lines  \n",
       "3  25 KBID 146-0034 Rep 1_5200-3196_160321-112131  schlieren lines  \n",
       "4  25 KBID 146-0034 Rep 1_5200-3196_160321-112131  schlieren lines  \n",
       "\n",
       "[5 rows x 22 columns]"
      ]
     },
     "execution_count": 13,
     "metadata": {},
     "output_type": "execute_result"
    }
   ],
   "source": [
    "df.head()"
   ]
  },
  {
   "cell_type": "code",
   "execution_count": 14,
   "id": "8f35759c-a643-46b6-aed2-19c799af5cb5",
   "metadata": {},
   "outputs": [
    {
     "data": {
      "image/png": "[encoded data removed]",
      "text/plain": [
       "<Figure size 720x720 with 4 Axes>"
      ]
     },
     "metadata": {
      "needs_background": "light"
     },
     "output_type": "display_data"
    }
   ],
   "source": [
    "fig = plt.figure(figsize=(10, 10))\n",
    "\n",
    "axes1 = fig.add_subplot(2, 2, 1) #row, column, which plot\n",
    "axes2 = fig.add_subplot(2, 2, 2)\n",
    "axes3 = fig.add_subplot(2, 2, 3)\n",
    "axes4 = fig.add_subplot(2, 2, 4)\n",
    "\n",
    "axes1.set_xlabel('intensity_min')\n",
    "axes1.set_ylabel('number of particles')\n",
    "axes1.hist(df['intensity_min'], bins = 20, color = \"grey\")\n",
    "\n",
    "axes2.set_xlabel('intensity_max')\n",
    "axes2.set_ylabel('number of particles')\n",
    "axes2.hist(df['intensity_max'], bins = 10, color = \"grey\")\n",
    "\n",
    "axes3.set_xlabel('intensity_mean')\n",
    "axes3.set_ylabel('number of particles')\n",
    "axes3.hist(df['intensity_mean'], bins = 20, color = \"grey\")\n",
    "\n",
    "axes4.set_xlabel('intensity_std')\n",
    "axes4.set_ylabel('number of particles')\n",
    "axes4.hist(df['intensity_std'], bins = 20, color = \"grey\")\n",
    "\n",
    "fig.suptitle(\"Particle Intensity\")\n",
    "\n",
    "fig.tight_layout() #helps clean things up and for the white space \n",
    "\n",
    "\n",
    "plt.show()\n",
    "\n"
   ]
  },
  {
   "cell_type": "code",
   "execution_count": 15,
   "id": "8d657556-4adf-476b-a54f-c03ea5074d6d",
   "metadata": {},
   "outputs": [
    {
     "data": {
      "text/plain": [
       "Text(0, 0.5, 'circularity')"
      ]
     },
     "execution_count": 15,
     "metadata": {},
     "output_type": "execute_result"
    },
    {
     "data": {
      "image/png": "[encoded data removed]",
      "text/plain": [
       "<Figure size 432x288 with 1 Axes>"
      ]
     },
     "metadata": {
      "needs_background": "light"
     },
     "output_type": "display_data"
    }
   ],
   "source": [
    "plt.scatter(df['max_feret_diam_um'], df['circularity'], s=0.1, color = '#88c999')\n",
    "\n",
    "plt.show\n",
    "plt.xlabel('max_feret_diam_um')\n",
    "plt.ylabel('circularity')"
   ]
  },
  {
   "cell_type": "code",
   "execution_count": 16,
   "id": "65d5a62f-3a72-4dd8-baf7-59d3ab5da8be",
   "metadata": {},
   "outputs": [
    {
     "name": "stdout",
     "output_type": "stream",
     "text": [
      "['schlieren lines' 'translucent fibral' 'glass' 'dense globular' 'protein'\n",
      " 'silicone oil' 'multi si oil' 'silicone oil agg.' 'dense fibral'\n",
      " 'dense ring-like' 'translucent ring-like' 'translucent globular']\n"
     ]
    }
   ],
   "source": [
    "types=df['type'].unique()\n",
    "print(types)"
   ]
  },
  {
   "cell_type": "code",
   "execution_count": 17,
   "id": "24b1f564-e6b3-430b-af0b-2dbe19728240",
   "metadata": {},
   "outputs": [
    {
     "data": {
      "text/plain": [
       "'\\nprobably a way to automate this but can\\'t figure it out - christian\\n\\ngrouped_type=df.groupby(\"type\")\\n\\nfor idx, name in enumerate(types):\\n    list[idx]=grouped_type.get_group(name)\\nreturn list\\n'"
      ]
     },
     "execution_count": 17,
     "metadata": {},
     "output_type": "execute_result"
    }
   ],
   "source": [
    "\"\"\"\n",
    "probably a way to automate this but can't figure it out - christian\n",
    "\n",
    "grouped_type=df.groupby(\"type\")\n",
    "\n",
    "for idx, name in enumerate(types):\n",
    "    list[idx]=grouped_type.get_group(name)\n",
    "return list\n",
    "\"\"\""
   ]
  },
  {
   "cell_type": "code",
   "execution_count": 18,
   "id": "e1beef25-600f-4665-93f0-cd047274161c",
   "metadata": {},
   "outputs": [
    {
     "name": "stdout",
     "output_type": "stream",
     "text": [
      "number of schlieren lines = 1675\n",
      "number of translucent fibral particles = 4622\n",
      "number of glass particles = 4959\n",
      "number of dense globular particles = 41657\n",
      "number of protein particles = 367\n",
      "number of silicone oil particles = 58169\n",
      "number of multi silicone oil particles = 3085\n",
      "number of silicone aggregated particles = 40\n",
      "number of dense fibral particles = 59\n",
      "number of dense ring particles = 30\n",
      "number of translucent ring-like particles = 31\n",
      "number of translucent globular particles = 14\n"
     ]
    }
   ],
   "source": [
    "grouped_type=df.groupby(\"type\")\n",
    "schlieren=grouped_type.get_group(\"schlieren lines\")\n",
    "translucent_fibral=grouped_type.get_group(\"translucent fibral\")\n",
    "glass=grouped_type.get_group(\"glass\")\n",
    "dense_glob=grouped_type.get_group(\"dense globular\")\n",
    "protein=grouped_type.get_group(types[4])\n",
    "silicone_oil=grouped_type.get_group(types[5])\n",
    "multi_si_oil=grouped_type.get_group(types[6])\n",
    "silicone_agg=grouped_type.get_group(types[7])\n",
    "dense_fibral=grouped_type.get_group(types[8])\n",
    "dense_ring=grouped_type.get_group(types[9])\n",
    "translucent_ring=grouped_type.get_group(types[10])\n",
    "translucent_glob=grouped_type.get_group(types[11])\n",
    "\n",
    "print(\"number of schlieren lines =\", schlieren.shape[0])\n",
    "print(\"number of translucent fibral particles =\", translucent_fibral.shape[0])\n",
    "print(\"number of glass particles =\", glass.shape[0])\n",
    "print(\"number of dense globular particles =\", dense_glob.shape[0])\n",
    "print(\"number of protein particles =\", protein.shape[0])\n",
    "print(\"number of silicone oil particles =\", silicone_oil.shape[0])\n",
    "print(\"number of multi silicone oil particles =\", multi_si_oil.shape[0])\n",
    "print(\"number of silicone aggregated particles =\", silicone_agg.shape[0])\n",
    "print(\"number of dense fibral particles =\", dense_fibral.shape[0])\n",
    "print(\"number of dense ring particles =\", dense_ring.shape[0])\n",
    "print(\"number of translucent ring-like particles =\", translucent_ring.shape[0])\n",
    "print(\"number of translucent globular particles =\", translucent_glob.shape[0])"
   ]
  },
  {
   "cell_type": "code",
   "execution_count": 19,
   "id": "e3b78611-a7de-408d-a103-dc1752a4f875",
   "metadata": {},
   "outputs": [
    {
     "data": {
      "image/png": "[encoded data removed]",
      "text/plain": [
       "<Figure size 576x432 with 1 Axes>"
      ]
     },
     "metadata": {
      "needs_background": "light"
     },
     "output_type": "display_data"
    }
   ],
   "source": [
    "\n",
    "fig=plt.figure(figsize=(8,6))\n",
    "ax1=fig.add_subplot(1,1,1)\n",
    "\n",
    "ax1.scatter(schlieren['max_feret_diam_um'], schlieren['circularity'], s=0.1, color = 'r', label=\"schlieren\")\n",
    "ax1.scatter(translucent_fibral['max_feret_diam_um'], translucent_fibral['circularity'], s=0.1, color = 'b', label=\"translucent fibral\")\n",
    "ax1.scatter(glass['max_feret_diam_um'], glass['circularity'], s=0.1, color = 'g', label=\"glass\")\n",
    "ax1.scatter(dense_glob['max_feret_diam_um'], dense_glob['circularity'], s=0.1, color = 'k', label=\"dense globular\")\n",
    "ax1.scatter(protein['max_feret_diam_um'], protein['circularity'], s=0.1, color = 'orange', label=\"protein\")\n",
    "ax1.scatter(silicone_oil['max_feret_diam_um'], silicone_oil['circularity'], s=0.1, color = 'purple', label=\"silicone oil\")\n",
    "ax1.scatter(multi_si_oil['max_feret_diam_um'], multi_si_oil['circularity'], s=0.1, color = 'cyan', label=\"multi silicone oil\")\n",
    "ax1.scatter(silicone_agg['max_feret_diam_um'], silicone_agg['circularity'], s=0.1, color = 'magenta', label=\"silicone aggregate\")\n",
    "ax1.scatter(dense_fibral['max_feret_diam_um'], dense_fibral['circularity'], s=0.1, color = 'lavender', label=\"dense fibral\")\n",
    "ax1.scatter(dense_ring['max_feret_diam_um'], dense_ring['circularity'], s=0.1, color = 'yellow', label=\"dense ring-like\")\n",
    "ax1.scatter(translucent_ring['max_feret_diam_um'], translucent_ring['circularity'], s=0.1, color = 'pink', label=\"translucent ring-like\")\n",
    "ax1.scatter(translucent_glob['max_feret_diam_um'], translucent_glob['circularity'], s=0.1, color = 'brown', label=\"translucent globular\")\n",
    "\n",
    "\n",
    "ax1.set_xlabel('max feret diamter (um)')\n",
    "ax1.set_ylabel('circularity')\n",
    "\n",
    "legend=plt.legend(markerscale=10)\n",
    "\n",
    "plt.show()\n",
    "\n",
    "#comment out particles you don't want to see"
   ]
  },
  {
   "cell_type": "code",
   "execution_count": 20,
   "id": "def31d52-8c98-4499-b600-f90d6ce93a79",
   "metadata": {},
   "outputs": [
    {
     "data": {
      "text/plain": [
       "'\\nfrom PIL import Image\\nim = Image.open(\"04_Silicon_Oil_image_00001.jpg\")\\nleft = df[0,1682].x_left\\nprint(left)\\n'"
      ]
     },
     "execution_count": 20,
     "metadata": {},
     "output_type": "execute_result"
    }
   ],
   "source": [
    "\"\"\"\n",
    "from PIL import Image\n",
    "im = Image.open(\"04_Silicon_Oil_image_00001.jpg\")\n",
    "left = df[0,1682].x_left\n",
    "print(left)\n",
    "\"\"\""
   ]
  },
  {
   "cell_type": "code",
   "execution_count": 21,
   "id": "327ea5c3-d35e-4db7-b5a1-5561459fd332",
   "metadata": {},
   "outputs": [
    {
     "data": {
      "text/plain": [
       "'\\nfrom PIL import Image\\n\\nwith Image.open(\"04_Silicon_Oil_Image_00001.jpg\") as im:\\n\\n    # The crop method from the Image module takes four coordinates as input.\\n    # The right can also be represented as (left+width)\\n    # and lower can be represented as (upper+height).\\n    (left, upper, right, lower) = (20, 20, 100, 100)\\n\\n    # Here the image \"im\" is cropped and assigned to new variable im_crop\\n    im_crop = im.crop((left, upper, right, lower))\\n    \\n'"
      ]
     },
     "execution_count": 21,
     "metadata": {},
     "output_type": "execute_result"
    }
   ],
   "source": [
    "\"\"\"\n",
    "from PIL import Image\n",
    "\n",
    "with Image.open(\"04_Silicon_Oil_Image_00001.jpg\") as im:\n",
    "\n",
    "    # The crop method from the Image module takes four coordinates as input.\n",
    "    # The right can also be represented as (left+width)\n",
    "    # and lower can be represented as (upper+height).\n",
    "    (left, upper, right, lower) = (20, 20, 100, 100)\n",
    "\n",
    "    # Here the image \"im\" is cropped and assigned to new variable im_crop\n",
    "    im_crop = im.crop((left, upper, right, lower))\n",
    "    \n",
    "\"\"\""
   ]
  },
  {
   "cell_type": "code",
   "execution_count": 22,
   "id": "d81f581d-47e1-4b14-8b0b-bc385ea98402",
   "metadata": {},
   "outputs": [
    {
     "data": {
      "text/plain": [
       "<matplotlib.image.AxesImage at 0x7fabe612ddc0>"
      ]
     },
     "execution_count": 22,
     "metadata": {},
     "output_type": "execute_result"
    },
    {
     "data": {
      "image/png": "[encoded data removed]",
      "text/plain": [
       "<Figure size 432x288 with 1 Axes>"
      ]
     },
     "metadata": {
      "needs_background": "light"
     },
     "output_type": "display_data"
    }
   ],
   "source": [
    "from skimage import io\n",
    "import skimage.color\n",
    "\n",
    "# import and read image\n",
    "img = io.imread(\"04_Silicon_Oil_Image_00001.jpg\")\n",
    "\n",
    "# display the grayscale image\n",
    "fig, ax = plt.subplots()\n",
    "plt.imshow(img, cmap=\"gray\")"
   ]
  },
  {
   "cell_type": "code",
   "execution_count": 23,
   "id": "1a9f7d89-bf36-419e-ad28-30d9b9a9a57e",
   "metadata": {},
   "outputs": [
    {
     "name": "stdout",
     "output_type": "stream",
     "text": [
      "[1681]\n",
      "xL = 1681    974\n",
      "Name: x_left, dtype: int64\n"
     ]
    }
   ],
   "source": [
    "#for Lilly's cropping code\n",
    "\n",
    "x_left=df['x_left']\n",
    "x_right=df['x_right']\n",
    "y_top=df['y_top']\n",
    "y_bottom=df['y_bottom']\n",
    "\n",
    "\n",
    "string=\"04 Silicon Oil\" #change these for each picture\n",
    "frame=1 #corresponds to the 00001 or 00003 etc number\n",
    "\n",
    "#print(np.where(df['frame_num']==1))\n",
    "idx=np.where((df[\"step\"].str.startswith(string)) & (df[\"frame_num\"]==frame))\n",
    "index=idx[0]\n",
    "print(index)\n",
    "\n",
    "xL=x_left[index]\n",
    "xR=x_right[index]\n",
    "yT=y_top[index]\n",
    "yB=y_bottom[index] #finds your coordinates\n",
    "print(\"xL =\",xL)"
   ]
  },
  {
   "cell_type": "code",
   "execution_count": 38,
   "id": "4895fd00-6e66-4ec0-a209-1ec2685fac42",
   "metadata": {},
   "outputs": [
    {
     "name": "stdout",
     "output_type": "stream",
     "text": [
      "(array([1681], dtype=int64),)\n",
      "xL = 1681    974\n",
      "Name: x_left, dtype: int64\n"
     ]
    },
    {
     "data": {
      "text/plain": [
       "'\\n\\n# import and read image\\nimg = io.imread(\"04_Silicon_Oil_Image_00001.jpg\")\\ncropped = img[xL:xR,yT:yB]\\n#img[img < 128] = 0\\n\\n# display the grayscale image\\nfig, ax = plt.subplots()\\nplt.imshow(cropped, cmap=\"gray\")\\nprint(xL,xR,yT,yB)\\n'"
      ]
     },
     "execution_count": 38,
     "metadata": {},
     "output_type": "execute_result"
    }
   ],
   "source": [
    "import matplotlib.pyplot as plt\n",
    "\n",
    "#from PIL import Image\n",
    "#im = Image.open(\"04_Silicon_Oil_image_00001.jpg\")\n",
    "\n",
    "                                       \n",
    "#import imageio.v3 as iio\n",
    "from skimage import io\n",
    "import skimage.color\n",
    "\n",
    "x_left=df['x_left']\n",
    "x_right=df['x_right']\n",
    "y_top=df['y_top']\n",
    "y_bottom=df['y_bottom']\n",
    "\n",
    "\n",
    "string=\"04 Silicon Oil\" #change these for each picture\n",
    "frame=1 #corresponds to the 00001 or 00003 etc number\n",
    "\n",
    "#print(np.where(df['frame_num']==1))\n",
    "idx=np.where((df[\"step\"].str.startswith(string)) & (df[\"frame_num\"]==frame))\n",
    "index=idx[0]\n",
    "print(idx)\n",
    "\n",
    "#row=df[index, axis=1] #pull out entire row at index with largest ecd\n",
    "#look into .loc and .iloc\n",
    "\n",
    "xL=x_left.iloc[idx[0]] #\n",
    "xR=x_right[1681]\n",
    "yT=y_top[1681]\n",
    "yB=y_bottom[1681] #finds your coordinates\n",
    "print(\"xL =\",xL)\n",
    "xL.size\n",
    "\n",
    "\n",
    "#print(vars())\n",
    "type(xL)\n",
    "\"\"\"\n",
    "\n",
    "# import and read image\n",
    "img = io.imread(\"04_Silicon_Oil_Image_00001.jpg\")\n",
    "cropped = img[xL:xR,yT:yB]\n",
    "#img[img < 128] = 0\n",
    "\n",
    "# display the grayscale image\n",
    "fig, ax = plt.subplots()\n",
    "plt.imshow(cropped, cmap=\"gray\")\n",
    "print(xL,xR,yT,yB)\n",
    "\"\"\""
   ]
  },
  {
   "cell_type": "code",
   "execution_count": null,
   "id": "d5b81177-911e-487a-ad75-5788c9925cfd",
   "metadata": {},
   "outputs": [],
   "source": []
  },
  {
   "cell_type": "code",
   "execution_count": 25,
   "id": "33868689-31ac-4148-9640-7b812cc125d4",
   "metadata": {},
   "outputs": [
    {
     "name": "stdout",
     "output_type": "stream",
     "text": [
      "[3]\n"
     ]
    },
    {
     "data": {
      "text/plain": [
       "<matplotlib.image.AxesImage at 0x7fabe5a8dd60>"
      ]
     },
     "execution_count": 25,
     "metadata": {},
     "output_type": "execute_result"
    },
    {
     "data": {
      "image/png": "[encoded data removed]",
      "text/plain": [
       "<Figure size 432x288 with 1 Axes>"
      ]
     },
     "metadata": {
      "needs_background": "light"
     },
     "output_type": "display_data"
    }
   ],
   "source": [
    "                                       \n",
    "#import imageio.v3 as iio\n",
    "from skimage import io\n",
    "import skimage.color\n",
    "\n",
    "\n",
    "string=\"11 Fiber\" #change these for each picture\n",
    "frame=5 #corresponds to the 00001 or 00003 etc number\n",
    "\n",
    "#print(np.where(df['frame_num']==1))\n",
    "idx=np.where((df2[\"step\"].str.startswith(string)) & (df2[\"frame_num\"]==frame))\n",
    "index=idx[0]\n",
    "print(index)\n",
    "\n",
    "\n",
    "xL=x_left[3]\n",
    "xR=x_right[3]\n",
    "yT=y_top[3]\n",
    "yB=y_bottom[3] #finds your coordinates\n",
    "\n",
    "# import and read image\n",
    "img = io.imread(\"11 Fiber_5200-3196_191021-10271 Image_00005.jpg\")\n",
    "cropped = img[xL:xR,yT:yB]\n",
    "#img[img < 128] = 0\n",
    "\n",
    "# display the grayscale image\n",
    "fig, ax = plt.subplots()\n",
    "plt.imshow(cropped, cmap=\"gray\")\n"
   ]
  },
  {
   "cell_type": "code",
   "execution_count": 26,
   "id": "c001b036-f737-4f5a-a982-fe945eb548c3",
   "metadata": {},
   "outputs": [
    {
     "ename": "SyntaxError",
     "evalue": "invalid syntax (1542853194.py, line 14)",
     "output_type": "error",
     "traceback": [
      "\u001b[0;36m  Input \u001b[0;32mIn [26]\u001b[0;36m\u001b[0m\n\u001b[0;31m    ImageFolder = KBI Image\u001b[0m\n\u001b[0m                      ^\u001b[0m\n\u001b[0;31mSyntaxError\u001b[0m\u001b[0;31m:\u001b[0m invalid syntax\n"
     ]
    }
   ],
   "source": [
    "from PIL import Image\n",
    "\n",
    "#img = Image.open(path)\t\n",
    "# On successful execution of this statement, an object of Image type is returned and stored in img variable)\n",
    "im = Image.open('withmed.jpg')\n",
    "im.show('image',img)\n",
    "\n",
    "filename = \"\"\n",
    "with Image.open(filename) as image:\n",
    "\twidth, height = image.size\n",
    "#Image.size gives a 2-tuple and the width, height can be obtained\n",
    "\n",
    "df = pd.read_csv('KBI Image')\n",
    "ImageFolder = KBI Image\n",
    "ProteinImages = []\n",
    "SchlerenImages = []\n",
    "AirbubbleImages = []\n",
    "FiberImages = []\n",
    "Other = []\n",
    "\n",
    "for filename in ImageFolder:\n",
    "    if filename.startswith('Protein'):\n",
    "        ProteinImages.append(filename)\n",
    "    elif filename.startswith('Schleren'):\n",
    "        SchlerenImages.append(filename)\n",
    "    elif filename.startswith('0')\n",
    "        SiliconImages.append(filename)\n",
    "    elif filename.startswith('Air')\n",
    "        AirbubbleImages.append(filename)\n",
    "    elif filename.startswith('fiber')\n",
    "        FiberImages.append(filename)\n",
    "    else:\n",
    "        other.append(filename)\n"
   ]
  },
  {
   "cell_type": "code",
   "execution_count": null,
   "id": "646dd8a7-1e38-4fe7-824c-1162e5dd659b",
   "metadata": {},
   "outputs": [],
   "source": []
  }
 ],
 "metadata": {
  "kernelspec": {
   "display_name": "Python 3 (ipykernel)",
   "language": "python",
   "name": "python3"
  },
  "language_info": {
   "codemirror_mode": {
    "name": "ipython",
    "version": 3
   },
   "file_extension": ".py",
   "mimetype": "text/x-python",
   "name": "python",
   "nbconvert_exporter": "python",
   "pygments_lexer": "ipython3",
   "version": "3.9.13"
  }
 },
 "nbformat": 4,
 "nbformat_minor": 5
}
